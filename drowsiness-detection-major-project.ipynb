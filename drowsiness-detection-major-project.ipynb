{
 "cells": [
  {
   "cell_type": "code",
   "execution_count": 1,
   "id": "62319238",
   "metadata": {
    "execution": {
     "iopub.execute_input": "2024-03-06T05:19:26.201755Z",
     "iopub.status.busy": "2024-03-06T05:19:26.201370Z",
     "iopub.status.idle": "2024-03-06T05:19:26.221662Z",
     "shell.execute_reply": "2024-03-06T05:19:26.220784Z"
    },
    "papermill": {
     "duration": 0.029161,
     "end_time": "2024-03-06T05:19:26.223732",
     "exception": false,
     "start_time": "2024-03-06T05:19:26.194571",
     "status": "completed"
    },
    "tags": []
   },
   "outputs": [],
   "source": [
    "import os\n",
    "import shutil\n",
    "import glob\n",
    "from tqdm import tqdm"
   ]
  },
  {
   "cell_type": "code",
   "execution_count": 12,
   "id": "3ec7e739",
   "metadata": {
    "execution": {
     "iopub.execute_input": "2024-03-06T05:19:26.235547Z",
     "iopub.status.busy": "2024-03-06T05:19:26.234974Z",
     "iopub.status.idle": "2024-03-06T05:19:39.074500Z",
     "shell.execute_reply": "2024-03-06T05:19:39.073531Z"
    },
    "papermill": {
     "duration": 12.847871,
     "end_time": "2024-03-06T05:19:39.077024",
     "exception": false,
     "start_time": "2024-03-06T05:19:26.229153",
     "status": "completed"
    },
    "tags": []
   },
   "outputs": [],
   "source": [
    "import tensorflow as tf\n",
    "from tensorflow.keras.applications import InceptionV3,MobileNet\n",
    "from tensorflow.keras.models import Model\n",
    "from tensorflow.keras.layers import Dropout,Input,Flatten,Dense,MaxPooling2D\n",
    "from tensorflow.keras.preprocessing.image import ImageDataGenerator  # Data Augumentation"
   ]
  },
  {
   "cell_type": "code",
   "execution_count": 3,
   "id": "856d5065",
   "metadata": {},
   "outputs": [
    {
     "name": "stderr",
     "output_type": "stream",
     "text": [
      "0it [00:00, ?it/s]\n",
      "100%|██████████| 3242/3242 [00:21<00:00, 153.74it/s]\n",
      "100%|██████████| 1114/1114 [00:11<00:00, 94.22it/s] \n",
      "100%|██████████| 679/679 [00:06<00:00, 105.47it/s]\n",
      "100%|██████████| 1069/1069 [00:08<00:00, 126.69it/s]\n",
      "100%|██████████| 736/736 [00:04<00:00, 170.05it/s]\n",
      "100%|██████████| 1012/1012 [00:06<00:00, 167.36it/s]\n",
      "100%|██████████| 624/624 [00:04<00:00, 154.17it/s]\n",
      "100%|██████████| 832/832 [00:05<00:00, 162.84it/s]\n",
      "100%|██████████| 387/387 [00:02<00:00, 159.77it/s]\n",
      "100%|██████████| 399/399 [00:02<00:00, 148.46it/s]\n",
      "100%|██████████| 1648/1648 [00:12<00:00, 130.08it/s]\n",
      "100%|██████████| 8728/8728 [01:03<00:00, 138.20it/s]\n",
      "100%|██████████| 3605/3605 [00:23<00:00, 156.45it/s]\n",
      "100%|██████████| 8884/8884 [00:51<00:00, 171.92it/s]\n",
      "100%|██████████| 1132/1132 [00:06<00:00, 184.53it/s]\n",
      "100%|██████████| 1889/1889 [00:10<00:00, 172.25it/s]\n",
      "100%|██████████| 1648/1648 [00:10<00:00, 159.33it/s]\n",
      "100%|██████████| 4410/4410 [00:23<00:00, 185.78it/s]\n",
      "100%|██████████| 6175/6175 [00:32<00:00, 188.10it/s]\n",
      "100%|██████████| 704/704 [00:03<00:00, 189.29it/s]\n",
      "100%|██████████| 987/987 [00:05<00:00, 188.56it/s]\n",
      "100%|██████████| 382/382 [00:02<00:00, 175.89it/s]\n",
      "100%|██████████| 522/522 [00:02<00:00, 178.29it/s]\n",
      "100%|██████████| 752/752 [00:04<00:00, 187.27it/s]\n",
      "100%|██████████| 1502/1502 [00:08<00:00, 183.45it/s]\n",
      "100%|██████████| 1246/1246 [00:06<00:00, 188.08it/s]\n",
      "100%|██████████| 665/665 [00:03<00:00, 187.47it/s]\n",
      "100%|██████████| 736/736 [00:03<00:00, 187.67it/s]\n",
      "100%|██████████| 1393/1393 [00:08<00:00, 163.02it/s]\n",
      "100%|██████████| 1384/1384 [00:07<00:00, 190.90it/s]\n",
      "100%|██████████| 1738/1738 [00:10<00:00, 158.83it/s]\n",
      "100%|██████████| 6162/6162 [00:32<00:00, 191.74it/s]\n",
      "100%|██████████| 681/681 [00:03<00:00, 190.32it/s]\n",
      "100%|██████████| 739/739 [00:03<00:00, 187.53it/s]\n",
      "100%|██████████| 642/642 [00:03<00:00, 197.54it/s]\n",
      "100%|██████████| 6193/6193 [00:32<00:00, 191.54it/s]\n",
      "100%|██████████| 10257/10257 [01:05<00:00, 157.02it/s]\n"
     ]
    }
   ],
   "source": [
    "Raw_DIR= r'Z:\\major project\\MRL eye dataset\\mrlEyes_2018_01'\n",
    "for dirpath, dirname, filenames in os.walk(Raw_DIR):\n",
    "    for i in tqdm([f for f in filenames if f.endswith('.png')]):\n",
    "        if i.split('_')[4]=='0':\n",
    "            \n",
    "            shutil.copy(src=dirpath+'/'+i, dst=r'Z:\\major project\\MRL eye dataset\\Prepared data\\Closed eyes')\n",
    "        \n",
    "        elif i.split('_')[4]=='1':\n",
    "            shutil.copy(src=dirpath+'/'+i, dst=r'Z:\\major project\\MRL eye dataset\\Prepared data\\open eyes')\n"
   ]
  },
  {
   "cell_type": "code",
   "execution_count": 4,
   "id": "f72817e7",
   "metadata": {},
   "outputs": [
    {
     "name": "stderr",
     "output_type": "stream",
     "text": [
      "0it [00:00, ?it/s]\n",
      "100%|██████████| 3242/3242 [00:21<00:00, 151.56it/s]\n",
      "100%|██████████| 1114/1114 [00:10<00:00, 107.57it/s]\n",
      "100%|██████████| 679/679 [00:04<00:00, 141.32it/s]\n",
      "100%|██████████| 1069/1069 [00:08<00:00, 126.58it/s]\n",
      "100%|██████████| 736/736 [00:05<00:00, 147.11it/s]\n",
      "100%|██████████| 1012/1012 [00:06<00:00, 157.69it/s]\n",
      "100%|██████████| 624/624 [00:04<00:00, 153.91it/s]\n",
      "100%|██████████| 832/832 [00:04<00:00, 166.44it/s]\n",
      "100%|██████████| 387/387 [00:02<00:00, 163.38it/s]\n",
      "100%|██████████| 399/399 [00:02<00:00, 161.38it/s]\n",
      "100%|██████████| 1648/1648 [00:10<00:00, 154.23it/s]\n",
      "100%|██████████| 8728/8728 [00:59<00:00, 146.55it/s]\n",
      "100%|██████████| 3605/3605 [00:23<00:00, 151.74it/s]\n",
      "100%|██████████| 8884/8884 [00:58<00:00, 152.67it/s]\n",
      "100%|██████████| 1132/1132 [00:06<00:00, 162.09it/s]\n",
      "100%|██████████| 1889/1889 [00:10<00:00, 179.89it/s]\n",
      "100%|██████████| 1648/1648 [00:09<00:00, 171.78it/s]\n",
      "100%|██████████| 4410/4410 [00:27<00:00, 163.05it/s]\n",
      "100%|██████████| 6175/6175 [00:37<00:00, 166.13it/s]\n",
      "100%|██████████| 704/704 [00:03<00:00, 178.92it/s]\n",
      "100%|██████████| 987/987 [00:05<00:00, 185.28it/s]\n",
      "100%|██████████| 382/382 [00:02<00:00, 178.51it/s]\n",
      "100%|██████████| 522/522 [00:03<00:00, 155.36it/s]\n",
      "100%|██████████| 752/752 [00:05<00:00, 141.45it/s]\n",
      "100%|██████████| 1502/1502 [00:09<00:00, 163.54it/s]\n",
      "100%|██████████| 1246/1246 [00:08<00:00, 143.83it/s]\n",
      "100%|██████████| 665/665 [00:03<00:00, 176.48it/s]\n",
      "100%|██████████| 736/736 [00:04<00:00, 159.59it/s]\n",
      "100%|██████████| 1393/1393 [00:08<00:00, 167.79it/s]\n",
      "100%|██████████| 1384/1384 [00:08<00:00, 158.93it/s]\n",
      "100%|██████████| 1738/1738 [00:09<00:00, 175.33it/s]\n",
      "100%|██████████| 6162/6162 [00:35<00:00, 171.93it/s]\n",
      "100%|██████████| 681/681 [00:04<00:00, 167.35it/s]\n",
      "100%|██████████| 739/739 [00:04<00:00, 165.55it/s]\n",
      "100%|██████████| 642/642 [00:03<00:00, 176.53it/s]\n",
      "100%|██████████| 6193/6193 [00:39<00:00, 157.21it/s]\n",
      "100%|██████████| 10257/10257 [01:04<00:00, 159.23it/s]\n"
     ]
    }
   ],
   "source": [
    "raw_data = 'Z:/major project/MRL eye dataset/mrlEyes_2018_01'\n",
    "for dirpath, dirname, filename in os.walk(raw_data):\n",
    "    for file in tqdm([f for f in filename if f.endswith('.png')]):\n",
    "        if file.split('_')[4] == '0':\n",
    "            path='Z:/major project/MRL eye dataset/data/train/closed'\n",
    "            if not os.path.exists(path):\n",
    "                os.makedirs(path)\n",
    "            shutil.copy(src=dirpath + '/' + file, dst= path)\n",
    "        elif file.split('_')[4] == '1':\n",
    "            path='Z:/major project/MRL eye dataset/data/train/open'\n",
    "            if not os.path.exists(path):\n",
    "                os.makedirs(path)\n",
    "            shutil.copy(src=dirpath + '/' + file, dst= path)        "
   ]
  },
  {
   "cell_type": "code",
   "execution_count": 5,
   "id": "0dba41f8",
   "metadata": {
    "execution": {
     "iopub.execute_input": "2024-03-06T05:19:39.089088Z",
     "iopub.status.busy": "2024-03-06T05:19:39.088544Z",
     "iopub.status.idle": "2024-03-06T05:19:39.092737Z",
     "shell.execute_reply": "2024-03-06T05:19:39.091899Z"
    },
    "papermill": {
     "duration": 0.012369,
     "end_time": "2024-03-06T05:19:39.094768",
     "exception": false,
     "start_time": "2024-03-06T05:19:39.082399",
     "status": "completed"
    },
    "tags": []
   },
   "outputs": [],
   "source": [
    "batchsize=8"
   ]
  },
  {
   "cell_type": "code",
   "execution_count": 6,
   "id": "2b033671",
   "metadata": {},
   "outputs": [],
   "source": [
    "def create_test_closed(source, destination, percent):\n",
    "    '''\n",
    "    divides closed eyes images into given percent and moves from\n",
    "    source to destination.\n",
    "    \n",
    "    Arguments:\n",
    "    source(path): path of source directory\n",
    "    destination(path): path of destination directory\n",
    "    percent(float): percent of data to be divided(range: 0 to 1)\n",
    "    '''\n",
    "    path, dirs, files_closed = next(os.walk(source))\n",
    "    file_count_closed = len(files_closed)\n",
    "    percentage = file_count_closed * percent\n",
    "    to_move = random.sample(glob.glob(source + \"/*.png\"), int(percentage))\n",
    "\n",
    "    for f in enumerate(to_move):\n",
    "        if not os.path.exists(destination):\n",
    "            os.makedirs(destination)\n",
    "        shutil.move(f[1], destination)\n",
    "    print(f'moved {int(percentage)} images to the destination successfully.')    "
   ]
  },
  {
   "cell_type": "code",
   "execution_count": 7,
   "id": "bb858e93",
   "metadata": {},
   "outputs": [],
   "source": [
    "def create_test_open(source, destination, percent):\n",
    "    '''\n",
    "    divides open eyes images into given percent and moves from\n",
    "    source to destination.\n",
    "    \n",
    "    Arguments:\n",
    "    source(path): path of source directory\n",
    "    destination(path): path of destination directory\n",
    "    percent(float): percent of data to be divided(range: 0 to 1)\n",
    "    '''\n",
    "    path, dirs, files_open = next(os.walk(source))\n",
    "    file_count_open = len(files_open)\n",
    "    percentage = file_count_open * percent\n",
    "    to_move = random.sample(glob.glob(source + \"/*.png\"), int(percentage))\n",
    "\n",
    "    for f in enumerate(to_move):\n",
    "        if not os.path.exists(destination):\n",
    "            os.makedirs(destination)\n",
    "        shutil.move(f[1], destination)\n",
    "    print(f'moved {int(percentage)} images to the destination successfully.')"
   ]
  },
  {
   "cell_type": "code",
   "execution_count": 8,
   "id": "4224f418",
   "metadata": {},
   "outputs": [
    {
     "name": "stdout",
     "output_type": "stream",
     "text": [
      "WARNING:tensorflow:From C:\\Users\\tangu\\AppData\\Local\\Temp\\ipykernel_7140\\337460670.py:1: is_gpu_available (from tensorflow.python.framework.test_util) is deprecated and will be removed in a future version.\n",
      "Instructions for updating:\n",
      "Use `tf.config.list_physical_devices('GPU')` instead.\n"
     ]
    },
    {
     "data": {
      "text/plain": [
       "False"
      ]
     },
     "execution_count": 8,
     "metadata": {},
     "output_type": "execute_result"
    }
   ],
   "source": [
    "tf.test.is_gpu_available()"
   ]
  },
  {
   "cell_type": "code",
   "execution_count": 9,
   "id": "55ecdc8c",
   "metadata": {
    "execution": {
     "iopub.execute_input": "2024-03-06T05:19:39.106655Z",
     "iopub.status.busy": "2024-03-06T05:19:39.106066Z",
     "iopub.status.idle": "2024-03-06T05:21:16.435774Z",
     "shell.execute_reply": "2024-03-06T05:21:16.434967Z"
    },
    "papermill": {
     "duration": 97.337983,
     "end_time": "2024-03-06T05:21:16.438015",
     "exception": false,
     "start_time": "2024-03-06T05:19:39.100032",
     "status": "completed"
    },
    "tags": []
   },
   "outputs": [
    {
     "name": "stdout",
     "output_type": "stream",
     "text": [
      "Found 67919 images belonging to 2 classes.\n",
      "Found 16979 images belonging to 2 classes.\n"
     ]
    }
   ],
   "source": [
    "train_datagen= ImageDataGenerator(rescale=1./255, rotation_range=0.2,shear_range=0.2,\n",
    "    zoom_range=0.2,width_shift_range=0.2,\n",
    "    height_shift_range=0.2, validation_split=0.2)\n",
    "\n",
    "train_data= train_datagen.flow_from_directory('Z:/major project/MRL eye dataset/data/train',\n",
    "                                target_size=(80,80),batch_size=batchsize,class_mode='categorical',subset='training' )\n",
    "\n",
    "validation_data= train_datagen.flow_from_directory('Z:/major project/MRL eye dataset/data/train',\n",
    "                                target_size=(80,80),batch_size=batchsize,class_mode='categorical', subset='validation')"
   ]
  },
  {
   "cell_type": "code",
   "execution_count": 10,
   "id": "5d02a1e0",
   "metadata": {
    "execution": {
     "iopub.execute_input": "2024-03-06T05:21:16.450663Z",
     "iopub.status.busy": "2024-03-06T05:21:16.449928Z",
     "iopub.status.idle": "2024-03-06T05:21:35.696208Z",
     "shell.execute_reply": "2024-03-06T05:21:35.695129Z"
    },
    "papermill": {
     "duration": 19.25497,
     "end_time": "2024-03-06T05:21:35.698590",
     "exception": false,
     "start_time": "2024-03-06T05:21:16.443620",
     "status": "completed"
    },
    "tags": []
   },
   "outputs": [
    {
     "name": "stdout",
     "output_type": "stream",
     "text": [
      "Found 84898 images belonging to 2 classes.\n"
     ]
    }
   ],
   "source": [
    "test_datagen = ImageDataGenerator(rescale=1./255)\n",
    "\n",
    "test_data = test_datagen.flow_from_directory('Z:/major project/MRL eye dataset/data/train',\n",
    "                                target_size=(80,80),batch_size=batchsize,class_mode='categorical')"
   ]
  },
  {
   "cell_type": "code",
   "execution_count": 17,
   "id": "1a03d2f0",
   "metadata": {
    "execution": {
     "iopub.execute_input": "2024-03-06T05:21:35.711224Z",
     "iopub.status.busy": "2024-03-06T05:21:35.710924Z",
     "iopub.status.idle": "2024-03-06T05:21:44.513686Z",
     "shell.execute_reply": "2024-03-06T05:21:44.512780Z"
    },
    "papermill": {
     "duration": 8.811862,
     "end_time": "2024-03-06T05:21:44.516404",
     "exception": false,
     "start_time": "2024-03-06T05:21:35.704542",
     "status": "completed"
    },
    "tags": []
   },
   "outputs": [
    {
     "name": "stdout",
     "output_type": "stream",
     "text": [
      "WARNING:tensorflow:`input_shape` is undefined or non-square, or `rows` is not in [128, 160, 192, 224]. Weights for input shape (224, 224) will be loaded as the default.\n"
     ]
    }
   ],
   "source": [
    "bmodel = MobileNet(include_top=False, weights='imagenet', input_tensor=Input(shape=(80,80,3)), alpha=1.0)\n",
    "\n",
    "hmodel = bmodel.output\n",
    "hmodel = Flatten()(hmodel)\n",
    "hmodel = Dense(64, activation='relu')(hmodel)\n",
    "hmodel = Dropout(0.5)(hmodel)\n",
    "hmodel = Dense(2, activation='softmax')(hmodel)\n",
    "\n",
    "\n",
    "model = Model(inputs=bmodel.input, outputs=hmodel)\n",
    "\n",
    "for layer in bmodel.layers:\n",
    "    layer.trainable = False\n"
   ]
  },
  {
   "cell_type": "code",
   "execution_count": 18,
   "id": "7a33e2ee",
   "metadata": {
    "execution": {
     "iopub.execute_input": "2024-03-06T05:21:44.542867Z",
     "iopub.status.busy": "2024-03-06T05:21:44.542033Z",
     "iopub.status.idle": "2024-03-06T05:21:45.322319Z",
     "shell.execute_reply": "2024-03-06T05:21:45.321199Z"
    },
    "papermill": {
     "duration": 1.033575,
     "end_time": "2024-03-06T05:21:45.563931",
     "exception": false,
     "start_time": "2024-03-06T05:21:44.530356",
     "status": "completed"
    },
    "tags": []
   },
   "outputs": [
    {
     "name": "stdout",
     "output_type": "stream",
     "text": [
      "Model: \"model_2\"\n",
      "_________________________________________________________________\n",
      " Layer (type)                Output Shape              Param #   \n",
      "=================================================================\n",
      " input_3 (InputLayer)        [(None, 80, 80, 3)]       0         \n",
      "                                                                 \n",
      " conv1 (Conv2D)              (None, 40, 40, 32)        864       \n",
      "                                                                 \n",
      " conv1_bn (BatchNormalizati  (None, 40, 40, 32)        128       \n",
      " on)                                                             \n",
      "                                                                 \n",
      " conv1_relu (ReLU)           (None, 40, 40, 32)        0         \n",
      "                                                                 \n",
      " conv_dw_1 (DepthwiseConv2D  (None, 40, 40, 32)        288       \n",
      " )                                                               \n",
      "                                                                 \n",
      " conv_dw_1_bn (BatchNormali  (None, 40, 40, 32)        128       \n",
      " zation)                                                         \n",
      "                                                                 \n",
      " conv_dw_1_relu (ReLU)       (None, 40, 40, 32)        0         \n",
      "                                                                 \n",
      " conv_pw_1 (Conv2D)          (None, 40, 40, 64)        2048      \n",
      "                                                                 \n",
      " conv_pw_1_bn (BatchNormali  (None, 40, 40, 64)        256       \n",
      " zation)                                                         \n",
      "                                                                 \n",
      " conv_pw_1_relu (ReLU)       (None, 40, 40, 64)        0         \n",
      "                                                                 \n",
      " conv_pad_2 (ZeroPadding2D)  (None, 41, 41, 64)        0         \n",
      "                                                                 \n",
      " conv_dw_2 (DepthwiseConv2D  (None, 20, 20, 64)        576       \n",
      " )                                                               \n",
      "                                                                 \n",
      " conv_dw_2_bn (BatchNormali  (None, 20, 20, 64)        256       \n",
      " zation)                                                         \n",
      "                                                                 \n",
      " conv_dw_2_relu (ReLU)       (None, 20, 20, 64)        0         \n",
      "                                                                 \n",
      " conv_pw_2 (Conv2D)          (None, 20, 20, 128)       8192      \n",
      "                                                                 \n",
      " conv_pw_2_bn (BatchNormali  (None, 20, 20, 128)       512       \n",
      " zation)                                                         \n",
      "                                                                 \n",
      " conv_pw_2_relu (ReLU)       (None, 20, 20, 128)       0         \n",
      "                                                                 \n",
      " conv_dw_3 (DepthwiseConv2D  (None, 20, 20, 128)       1152      \n",
      " )                                                               \n",
      "                                                                 \n",
      " conv_dw_3_bn (BatchNormali  (None, 20, 20, 128)       512       \n",
      " zation)                                                         \n",
      "                                                                 \n",
      " conv_dw_3_relu (ReLU)       (None, 20, 20, 128)       0         \n",
      "                                                                 \n",
      " conv_pw_3 (Conv2D)          (None, 20, 20, 128)       16384     \n",
      "                                                                 \n",
      " conv_pw_3_bn (BatchNormali  (None, 20, 20, 128)       512       \n",
      " zation)                                                         \n",
      "                                                                 \n",
      " conv_pw_3_relu (ReLU)       (None, 20, 20, 128)       0         \n",
      "                                                                 \n",
      " conv_pad_4 (ZeroPadding2D)  (None, 21, 21, 128)       0         \n",
      "                                                                 \n",
      " conv_dw_4 (DepthwiseConv2D  (None, 10, 10, 128)       1152      \n",
      " )                                                               \n",
      "                                                                 \n",
      " conv_dw_4_bn (BatchNormali  (None, 10, 10, 128)       512       \n",
      " zation)                                                         \n",
      "                                                                 \n",
      " conv_dw_4_relu (ReLU)       (None, 10, 10, 128)       0         \n",
      "                                                                 \n",
      " conv_pw_4 (Conv2D)          (None, 10, 10, 256)       32768     \n",
      "                                                                 \n",
      " conv_pw_4_bn (BatchNormali  (None, 10, 10, 256)       1024      \n",
      " zation)                                                         \n",
      "                                                                 \n",
      " conv_pw_4_relu (ReLU)       (None, 10, 10, 256)       0         \n",
      "                                                                 \n",
      " conv_dw_5 (DepthwiseConv2D  (None, 10, 10, 256)       2304      \n",
      " )                                                               \n",
      "                                                                 \n",
      " conv_dw_5_bn (BatchNormali  (None, 10, 10, 256)       1024      \n",
      " zation)                                                         \n",
      "                                                                 \n",
      " conv_dw_5_relu (ReLU)       (None, 10, 10, 256)       0         \n",
      "                                                                 \n",
      " conv_pw_5 (Conv2D)          (None, 10, 10, 256)       65536     \n",
      "                                                                 \n",
      " conv_pw_5_bn (BatchNormali  (None, 10, 10, 256)       1024      \n",
      " zation)                                                         \n",
      "                                                                 \n",
      " conv_pw_5_relu (ReLU)       (None, 10, 10, 256)       0         \n",
      "                                                                 \n",
      " conv_pad_6 (ZeroPadding2D)  (None, 11, 11, 256)       0         \n",
      "                                                                 \n",
      " conv_dw_6 (DepthwiseConv2D  (None, 5, 5, 256)         2304      \n",
      " )                                                               \n",
      "                                                                 \n",
      " conv_dw_6_bn (BatchNormali  (None, 5, 5, 256)         1024      \n",
      " zation)                                                         \n",
      "                                                                 \n",
      " conv_dw_6_relu (ReLU)       (None, 5, 5, 256)         0         \n",
      "                                                                 \n",
      " conv_pw_6 (Conv2D)          (None, 5, 5, 512)         131072    \n",
      "                                                                 \n",
      " conv_pw_6_bn (BatchNormali  (None, 5, 5, 512)         2048      \n",
      " zation)                                                         \n",
      "                                                                 \n",
      " conv_pw_6_relu (ReLU)       (None, 5, 5, 512)         0         \n",
      "                                                                 \n",
      " conv_dw_7 (DepthwiseConv2D  (None, 5, 5, 512)         4608      \n",
      " )                                                               \n",
      "                                                                 \n",
      " conv_dw_7_bn (BatchNormali  (None, 5, 5, 512)         2048      \n",
      " zation)                                                         \n",
      "                                                                 \n",
      " conv_dw_7_relu (ReLU)       (None, 5, 5, 512)         0         \n",
      "                                                                 \n",
      " conv_pw_7 (Conv2D)          (None, 5, 5, 512)         262144    \n",
      "                                                                 \n",
      " conv_pw_7_bn (BatchNormali  (None, 5, 5, 512)         2048      \n",
      " zation)                                                         \n",
      "                                                                 \n",
      " conv_pw_7_relu (ReLU)       (None, 5, 5, 512)         0         \n",
      "                                                                 \n",
      " conv_dw_8 (DepthwiseConv2D  (None, 5, 5, 512)         4608      \n",
      " )                                                               \n",
      "                                                                 \n",
      " conv_dw_8_bn (BatchNormali  (None, 5, 5, 512)         2048      \n",
      " zation)                                                         \n",
      "                                                                 \n",
      " conv_dw_8_relu (ReLU)       (None, 5, 5, 512)         0         \n",
      "                                                                 \n",
      " conv_pw_8 (Conv2D)          (None, 5, 5, 512)         262144    \n",
      "                                                                 \n",
      " conv_pw_8_bn (BatchNormali  (None, 5, 5, 512)         2048      \n",
      " zation)                                                         \n",
      "                                                                 \n",
      " conv_pw_8_relu (ReLU)       (None, 5, 5, 512)         0         \n",
      "                                                                 \n",
      " conv_dw_9 (DepthwiseConv2D  (None, 5, 5, 512)         4608      \n",
      " )                                                               \n",
      "                                                                 \n",
      " conv_dw_9_bn (BatchNormali  (None, 5, 5, 512)         2048      \n",
      " zation)                                                         \n",
      "                                                                 \n",
      " conv_dw_9_relu (ReLU)       (None, 5, 5, 512)         0         \n",
      "                                                                 \n",
      " conv_pw_9 (Conv2D)          (None, 5, 5, 512)         262144    \n",
      "                                                                 \n",
      " conv_pw_9_bn (BatchNormali  (None, 5, 5, 512)         2048      \n",
      " zation)                                                         \n",
      "                                                                 \n",
      " conv_pw_9_relu (ReLU)       (None, 5, 5, 512)         0         \n",
      "                                                                 \n",
      " conv_dw_10 (DepthwiseConv2  (None, 5, 5, 512)         4608      \n",
      " D)                                                              \n",
      "                                                                 \n",
      " conv_dw_10_bn (BatchNormal  (None, 5, 5, 512)         2048      \n",
      " ization)                                                        \n",
      "                                                                 \n",
      " conv_dw_10_relu (ReLU)      (None, 5, 5, 512)         0         \n",
      "                                                                 \n",
      " conv_pw_10 (Conv2D)         (None, 5, 5, 512)         262144    \n",
      "                                                                 \n",
      " conv_pw_10_bn (BatchNormal  (None, 5, 5, 512)         2048      \n",
      " ization)                                                        \n",
      "                                                                 \n",
      " conv_pw_10_relu (ReLU)      (None, 5, 5, 512)         0         \n",
      "                                                                 \n",
      " conv_dw_11 (DepthwiseConv2  (None, 5, 5, 512)         4608      \n",
      " D)                                                              \n",
      "                                                                 \n",
      " conv_dw_11_bn (BatchNormal  (None, 5, 5, 512)         2048      \n",
      " ization)                                                        \n",
      "                                                                 \n",
      " conv_dw_11_relu (ReLU)      (None, 5, 5, 512)         0         \n",
      "                                                                 \n",
      " conv_pw_11 (Conv2D)         (None, 5, 5, 512)         262144    \n",
      "                                                                 \n",
      " conv_pw_11_bn (BatchNormal  (None, 5, 5, 512)         2048      \n",
      " ization)                                                        \n",
      "                                                                 \n",
      " conv_pw_11_relu (ReLU)      (None, 5, 5, 512)         0         \n",
      "                                                                 \n",
      " conv_pad_12 (ZeroPadding2D  (None, 6, 6, 512)         0         \n",
      " )                                                               \n",
      "                                                                 \n",
      " conv_dw_12 (DepthwiseConv2  (None, 2, 2, 512)         4608      \n",
      " D)                                                              \n",
      "                                                                 \n",
      " conv_dw_12_bn (BatchNormal  (None, 2, 2, 512)         2048      \n",
      " ization)                                                        \n",
      "                                                                 \n",
      " conv_dw_12_relu (ReLU)      (None, 2, 2, 512)         0         \n",
      "                                                                 \n",
      " conv_pw_12 (Conv2D)         (None, 2, 2, 1024)        524288    \n",
      "                                                                 \n",
      " conv_pw_12_bn (BatchNormal  (None, 2, 2, 1024)        4096      \n",
      " ization)                                                        \n",
      "                                                                 \n",
      " conv_pw_12_relu (ReLU)      (None, 2, 2, 1024)        0         \n",
      "                                                                 \n",
      " conv_dw_13 (DepthwiseConv2  (None, 2, 2, 1024)        9216      \n",
      " D)                                                              \n",
      "                                                                 \n",
      " conv_dw_13_bn (BatchNormal  (None, 2, 2, 1024)        4096      \n",
      " ization)                                                        \n",
      "                                                                 \n",
      " conv_dw_13_relu (ReLU)      (None, 2, 2, 1024)        0         \n",
      "                                                                 \n",
      " conv_pw_13 (Conv2D)         (None, 2, 2, 1024)        1048576   \n",
      "                                                                 \n",
      " conv_pw_13_bn (BatchNormal  (None, 2, 2, 1024)        4096      \n",
      " ization)                                                        \n",
      "                                                                 \n",
      " conv_pw_13_relu (ReLU)      (None, 2, 2, 1024)        0         \n",
      "                                                                 \n",
      " flatten_2 (Flatten)         (None, 4096)              0         \n",
      "                                                                 \n",
      " dense_4 (Dense)             (None, 64)                262208    \n",
      "                                                                 \n",
      " dropout_2 (Dropout)         (None, 64)                0         \n",
      "                                                                 \n",
      " dense_5 (Dense)             (None, 2)                 130       \n",
      "                                                                 \n",
      "=================================================================\n",
      "Total params: 3491202 (13.32 MB)\n",
      "Trainable params: 262338 (1.00 MB)\n",
      "Non-trainable params: 3228864 (12.32 MB)\n",
      "_________________________________________________________________\n"
     ]
    }
   ],
   "source": [
    "model.summary()"
   ]
  },
  {
   "cell_type": "code",
   "execution_count": 19,
   "id": "087ae136",
   "metadata": {
    "execution": {
     "iopub.execute_input": "2024-03-06T05:21:45.721260Z",
     "iopub.status.busy": "2024-03-06T05:21:45.720271Z",
     "iopub.status.idle": "2024-03-06T05:21:45.725609Z",
     "shell.execute_reply": "2024-03-06T05:21:45.724722Z"
    },
    "papermill": {
     "duration": 0.086174,
     "end_time": "2024-03-06T05:21:45.727416",
     "exception": false,
     "start_time": "2024-03-06T05:21:45.641242",
     "status": "completed"
    },
    "tags": []
   },
   "outputs": [],
   "source": [
    "from tensorflow.keras.callbacks import ModelCheckpoint,EarlyStopping, ReduceLROnPlateau"
   ]
  },
  {
   "cell_type": "code",
   "execution_count": 20,
   "id": "3d0456dc",
   "metadata": {
    "execution": {
     "iopub.execute_input": "2024-03-06T05:21:45.885243Z",
     "iopub.status.busy": "2024-03-06T05:21:45.884295Z",
     "iopub.status.idle": "2024-03-06T05:21:45.890087Z",
     "shell.execute_reply": "2024-03-06T05:21:45.889208Z"
    },
    "papermill": {
     "duration": 0.085718,
     "end_time": "2024-03-06T05:21:45.891915",
     "exception": false,
     "start_time": "2024-03-06T05:21:45.806197",
     "status": "completed"
    },
    "tags": []
   },
   "outputs": [],
   "source": [
    "checkpoint = ModelCheckpoint('Z:/major project/Driver-Drowsiness-Detection-using-Deep-Learning-main/models',\n",
    "                            monitor='val_loss',save_best_only=True,verbose=3)\n",
    "\n",
    "earlystop = EarlyStopping(monitor = 'val_loss', patience=7, verbose= 3, restore_best_weights=True)\n",
    "\n",
    "learning_rate = ReduceLROnPlateau(monitor= 'val_loss', patience=3, verbose= 3, )\n",
    "\n",
    "callbacks=[checkpoint,earlystop,learning_rate]"
   ]
  },
  {
   "cell_type": "code",
   "execution_count": 21,
   "id": "03709a34",
   "metadata": {
    "execution": {
     "iopub.execute_input": "2024-03-06T05:21:46.048407Z",
     "iopub.status.busy": "2024-03-06T05:21:46.047522Z",
     "iopub.status.idle": "2024-03-06T05:33:16.812697Z",
     "shell.execute_reply": "2024-03-06T05:33:16.811726Z"
    },
    "papermill": {
     "duration": 690.845532,
     "end_time": "2024-03-06T05:33:16.814645",
     "exception": false,
     "start_time": "2024-03-06T05:21:45.969113",
     "status": "completed"
    },
    "tags": []
   },
   "outputs": [
    {
     "name": "stdout",
     "output_type": "stream",
     "text": [
      "WARNING:tensorflow:From C:\\Users\\tangu\\anaconda4\\Lib\\site-packages\\keras\\src\\optimizers\\__init__.py:309: The name tf.train.Optimizer is deprecated. Please use tf.compat.v1.train.Optimizer instead.\n",
      "\n"
     ]
    },
    {
     "name": "stderr",
     "output_type": "stream",
     "text": [
      "C:\\Users\\tangu\\AppData\\Local\\Temp\\ipykernel_7140\\2628715689.py:3: UserWarning: `Model.fit_generator` is deprecated and will be removed in a future version. Please use `Model.fit`, which supports generators.\n",
      "  model.fit_generator(train_data,steps_per_epoch=train_data.samples//batchsize,\n"
     ]
    },
    {
     "name": "stdout",
     "output_type": "stream",
     "text": [
      "Epoch 1/2\n",
      "WARNING:tensorflow:From C:\\Users\\tangu\\anaconda4\\Lib\\site-packages\\keras\\src\\utils\\tf_utils.py:492: The name tf.ragged.RaggedTensorValue is deprecated. Please use tf.compat.v1.ragged.RaggedTensorValue instead.\n",
      "\n",
      "WARNING:tensorflow:From C:\\Users\\tangu\\anaconda4\\Lib\\site-packages\\keras\\src\\engine\\base_layer_utils.py:384: The name tf.executing_eagerly_outside_functions is deprecated. Please use tf.compat.v1.executing_eagerly_outside_functions instead.\n",
      "\n",
      "8489/8489 [==============================] - ETA: 0s - loss: 0.2235 - accuracy: 0.9143\n",
      "Epoch 1: val_loss improved from inf to 0.30441, saving model to Z:/major project/Driver-Drowsiness-Detection-using-Deep-Learning-main\\models\n",
      "INFO:tensorflow:Assets written to: Z:/major project/Driver-Drowsiness-Detection-using-Deep-Learning-main\\models\\assets\n"
     ]
    },
    {
     "name": "stderr",
     "output_type": "stream",
     "text": [
      "INFO:tensorflow:Assets written to: Z:/major project/Driver-Drowsiness-Detection-using-Deep-Learning-main\\models\\assets\n"
     ]
    },
    {
     "name": "stdout",
     "output_type": "stream",
     "text": [
      "8489/8489 [==============================] - 763s 90ms/step - loss: 0.2235 - accuracy: 0.9143 - val_loss: 0.3044 - val_accuracy: 0.8811 - lr: 0.0010\n",
      "Epoch 2/2\n",
      "8489/8489 [==============================] - ETA: 0s - loss: 0.1833 - accuracy: 0.9293\n",
      "Epoch 2: val_loss did not improve from 0.30441\n",
      "8489/8489 [==============================] - 782s 92ms/step - loss: 0.1833 - accuracy: 0.9293 - val_loss: 0.3424 - val_accuracy: 0.8856 - lr: 0.0010\n"
     ]
    },
    {
     "data": {
      "text/plain": [
       "<keras.src.callbacks.History at 0x1c7f6c60dd0>"
      ]
     },
     "execution_count": 21,
     "metadata": {},
     "output_type": "execute_result"
    }
   ],
   "source": [
    "model.compile(optimizer='Adam', loss='categorical_crossentropy',metrics=['accuracy'])\n",
    "\n",
    "model.fit_generator(train_data,steps_per_epoch=train_data.samples//batchsize,\n",
    "                   validation_data=validation_data,\n",
    "                   validation_steps=validation_data.samples//batchsize,\n",
    "                   callbacks=callbacks,\n",
    "                    epochs=2)"
   ]
  },
  {
   "cell_type": "code",
   "execution_count": 22,
   "id": "eede4559",
   "metadata": {
    "execution": {
     "iopub.execute_input": "2024-03-06T05:33:18.169390Z",
     "iopub.status.busy": "2024-03-06T05:33:18.168662Z",
     "iopub.status.idle": "2024-03-06T05:35:33.777384Z",
     "shell.execute_reply": "2024-03-06T05:35:33.776513Z"
    },
    "papermill": {
     "duration": 136.969955,
     "end_time": "2024-03-06T05:35:34.435694",
     "exception": false,
     "start_time": "2024-03-06T05:33:17.465739",
     "status": "completed"
    },
    "tags": []
   },
   "outputs": [
    {
     "name": "stdout",
     "output_type": "stream",
     "text": [
      " 241/8490 [..............................] - ETA: 6:27 - loss: 0.1844 - accuracy: 0.9315"
     ]
    },
    {
     "ename": "KeyboardInterrupt",
     "evalue": "",
     "output_type": "error",
     "traceback": [
      "\u001b[1;31m---------------------------------------------------------------------------\u001b[0m",
      "\u001b[1;31mKeyboardInterrupt\u001b[0m                         Traceback (most recent call last)",
      "Cell \u001b[1;32mIn[22], line 1\u001b[0m\n\u001b[1;32m----> 1\u001b[0m loss_tr,acc_tr \u001b[38;5;241m=\u001b[39m model\u001b[38;5;241m.\u001b[39mevaluate(train_data)\n\u001b[0;32m      2\u001b[0m \u001b[38;5;28mprint\u001b[39m(acc_tr)\n\u001b[0;32m      3\u001b[0m \u001b[38;5;28mprint\u001b[39m(loss_tr)\n",
      "File \u001b[1;32m~\\anaconda4\\Lib\\site-packages\\keras\\src\\utils\\traceback_utils.py:65\u001b[0m, in \u001b[0;36mfilter_traceback.<locals>.error_handler\u001b[1;34m(*args, **kwargs)\u001b[0m\n\u001b[0;32m     63\u001b[0m filtered_tb \u001b[38;5;241m=\u001b[39m \u001b[38;5;28;01mNone\u001b[39;00m\n\u001b[0;32m     64\u001b[0m \u001b[38;5;28;01mtry\u001b[39;00m:\n\u001b[1;32m---> 65\u001b[0m     \u001b[38;5;28;01mreturn\u001b[39;00m fn(\u001b[38;5;241m*\u001b[39margs, \u001b[38;5;241m*\u001b[39m\u001b[38;5;241m*\u001b[39mkwargs)\n\u001b[0;32m     66\u001b[0m \u001b[38;5;28;01mexcept\u001b[39;00m \u001b[38;5;167;01mException\u001b[39;00m \u001b[38;5;28;01mas\u001b[39;00m e:\n\u001b[0;32m     67\u001b[0m     filtered_tb \u001b[38;5;241m=\u001b[39m _process_traceback_frames(e\u001b[38;5;241m.\u001b[39m__traceback__)\n",
      "File \u001b[1;32m~\\anaconda4\\Lib\\site-packages\\keras\\src\\engine\\training.py:2296\u001b[0m, in \u001b[0;36mModel.evaluate\u001b[1;34m(self, x, y, batch_size, verbose, sample_weight, steps, callbacks, max_queue_size, workers, use_multiprocessing, return_dict, **kwargs)\u001b[0m\n\u001b[0;32m   2292\u001b[0m             \u001b[38;5;28;01mwith\u001b[39;00m tf\u001b[38;5;241m.\u001b[39mprofiler\u001b[38;5;241m.\u001b[39mexperimental\u001b[38;5;241m.\u001b[39mTrace(\n\u001b[0;32m   2293\u001b[0m                 \u001b[38;5;124m\"\u001b[39m\u001b[38;5;124mtest\u001b[39m\u001b[38;5;124m\"\u001b[39m, step_num\u001b[38;5;241m=\u001b[39mstep, _r\u001b[38;5;241m=\u001b[39m\u001b[38;5;241m1\u001b[39m\n\u001b[0;32m   2294\u001b[0m             ):\n\u001b[0;32m   2295\u001b[0m                 callbacks\u001b[38;5;241m.\u001b[39mon_test_batch_begin(step)\n\u001b[1;32m-> 2296\u001b[0m                 logs \u001b[38;5;241m=\u001b[39m test_function_runner\u001b[38;5;241m.\u001b[39mrun_step(\n\u001b[0;32m   2297\u001b[0m                     dataset_or_iterator,\n\u001b[0;32m   2298\u001b[0m                     data_handler,\n\u001b[0;32m   2299\u001b[0m                     step,\n\u001b[0;32m   2300\u001b[0m                     \u001b[38;5;28mself\u001b[39m\u001b[38;5;241m.\u001b[39m_pss_evaluation_shards,\n\u001b[0;32m   2301\u001b[0m                 )\n\u001b[0;32m   2303\u001b[0m logs \u001b[38;5;241m=\u001b[39m tf_utils\u001b[38;5;241m.\u001b[39msync_to_numpy_or_python_type(logs)\n\u001b[0;32m   2304\u001b[0m \u001b[38;5;66;03m# Override with model metrics instead of last step logs\u001b[39;00m\n",
      "File \u001b[1;32m~\\anaconda4\\Lib\\site-packages\\keras\\src\\engine\\training.py:4108\u001b[0m, in \u001b[0;36m_TestFunction.run_step\u001b[1;34m(self, dataset_or_iterator, data_handler, step, unused_shards)\u001b[0m\n\u001b[0;32m   4107\u001b[0m \u001b[38;5;28;01mdef\u001b[39;00m \u001b[38;5;21mrun_step\u001b[39m(\u001b[38;5;28mself\u001b[39m, dataset_or_iterator, data_handler, step, unused_shards):\n\u001b[1;32m-> 4108\u001b[0m     tmp_logs \u001b[38;5;241m=\u001b[39m \u001b[38;5;28mself\u001b[39m\u001b[38;5;241m.\u001b[39m_function(dataset_or_iterator)\n\u001b[0;32m   4109\u001b[0m     \u001b[38;5;28;01mif\u001b[39;00m data_handler\u001b[38;5;241m.\u001b[39mshould_sync:\n\u001b[0;32m   4110\u001b[0m         context\u001b[38;5;241m.\u001b[39masync_wait()\n",
      "File \u001b[1;32m~\\anaconda4\\Lib\\site-packages\\tensorflow\\python\\util\\traceback_utils.py:150\u001b[0m, in \u001b[0;36mfilter_traceback.<locals>.error_handler\u001b[1;34m(*args, **kwargs)\u001b[0m\n\u001b[0;32m    148\u001b[0m filtered_tb \u001b[38;5;241m=\u001b[39m \u001b[38;5;28;01mNone\u001b[39;00m\n\u001b[0;32m    149\u001b[0m \u001b[38;5;28;01mtry\u001b[39;00m:\n\u001b[1;32m--> 150\u001b[0m   \u001b[38;5;28;01mreturn\u001b[39;00m fn(\u001b[38;5;241m*\u001b[39margs, \u001b[38;5;241m*\u001b[39m\u001b[38;5;241m*\u001b[39mkwargs)\n\u001b[0;32m    151\u001b[0m \u001b[38;5;28;01mexcept\u001b[39;00m \u001b[38;5;167;01mException\u001b[39;00m \u001b[38;5;28;01mas\u001b[39;00m e:\n\u001b[0;32m    152\u001b[0m   filtered_tb \u001b[38;5;241m=\u001b[39m _process_traceback_frames(e\u001b[38;5;241m.\u001b[39m__traceback__)\n",
      "File \u001b[1;32m~\\anaconda4\\Lib\\site-packages\\tensorflow\\python\\eager\\polymorphic_function\\polymorphic_function.py:832\u001b[0m, in \u001b[0;36mFunction.__call__\u001b[1;34m(self, *args, **kwds)\u001b[0m\n\u001b[0;32m    829\u001b[0m compiler \u001b[38;5;241m=\u001b[39m \u001b[38;5;124m\"\u001b[39m\u001b[38;5;124mxla\u001b[39m\u001b[38;5;124m\"\u001b[39m \u001b[38;5;28;01mif\u001b[39;00m \u001b[38;5;28mself\u001b[39m\u001b[38;5;241m.\u001b[39m_jit_compile \u001b[38;5;28;01melse\u001b[39;00m \u001b[38;5;124m\"\u001b[39m\u001b[38;5;124mnonXla\u001b[39m\u001b[38;5;124m\"\u001b[39m\n\u001b[0;32m    831\u001b[0m \u001b[38;5;28;01mwith\u001b[39;00m OptionalXlaContext(\u001b[38;5;28mself\u001b[39m\u001b[38;5;241m.\u001b[39m_jit_compile):\n\u001b[1;32m--> 832\u001b[0m   result \u001b[38;5;241m=\u001b[39m \u001b[38;5;28mself\u001b[39m\u001b[38;5;241m.\u001b[39m_call(\u001b[38;5;241m*\u001b[39margs, \u001b[38;5;241m*\u001b[39m\u001b[38;5;241m*\u001b[39mkwds)\n\u001b[0;32m    834\u001b[0m new_tracing_count \u001b[38;5;241m=\u001b[39m \u001b[38;5;28mself\u001b[39m\u001b[38;5;241m.\u001b[39mexperimental_get_tracing_count()\n\u001b[0;32m    835\u001b[0m without_tracing \u001b[38;5;241m=\u001b[39m (tracing_count \u001b[38;5;241m==\u001b[39m new_tracing_count)\n",
      "File \u001b[1;32m~\\anaconda4\\Lib\\site-packages\\tensorflow\\python\\eager\\polymorphic_function\\polymorphic_function.py:877\u001b[0m, in \u001b[0;36mFunction._call\u001b[1;34m(self, *args, **kwds)\u001b[0m\n\u001b[0;32m    874\u001b[0m \u001b[38;5;28mself\u001b[39m\u001b[38;5;241m.\u001b[39m_lock\u001b[38;5;241m.\u001b[39mrelease()\n\u001b[0;32m    875\u001b[0m \u001b[38;5;66;03m# In this case we have not created variables on the first call. So we can\u001b[39;00m\n\u001b[0;32m    876\u001b[0m \u001b[38;5;66;03m# run the first trace but we should fail if variables are created.\u001b[39;00m\n\u001b[1;32m--> 877\u001b[0m results \u001b[38;5;241m=\u001b[39m tracing_compilation\u001b[38;5;241m.\u001b[39mcall_function(\n\u001b[0;32m    878\u001b[0m     args, kwds, \u001b[38;5;28mself\u001b[39m\u001b[38;5;241m.\u001b[39m_variable_creation_config\n\u001b[0;32m    879\u001b[0m )\n\u001b[0;32m    880\u001b[0m \u001b[38;5;28;01mif\u001b[39;00m \u001b[38;5;28mself\u001b[39m\u001b[38;5;241m.\u001b[39m_created_variables:\n\u001b[0;32m    881\u001b[0m   \u001b[38;5;28;01mraise\u001b[39;00m \u001b[38;5;167;01mValueError\u001b[39;00m(\u001b[38;5;124m\"\u001b[39m\u001b[38;5;124mCreating variables on a non-first call to a function\u001b[39m\u001b[38;5;124m\"\u001b[39m\n\u001b[0;32m    882\u001b[0m                    \u001b[38;5;124m\"\u001b[39m\u001b[38;5;124m decorated with tf.function.\u001b[39m\u001b[38;5;124m\"\u001b[39m)\n",
      "File \u001b[1;32m~\\anaconda4\\Lib\\site-packages\\tensorflow\\python\\eager\\polymorphic_function\\tracing_compilation.py:139\u001b[0m, in \u001b[0;36mcall_function\u001b[1;34m(args, kwargs, tracing_options)\u001b[0m\n\u001b[0;32m    137\u001b[0m bound_args \u001b[38;5;241m=\u001b[39m function\u001b[38;5;241m.\u001b[39mfunction_type\u001b[38;5;241m.\u001b[39mbind(\u001b[38;5;241m*\u001b[39margs, \u001b[38;5;241m*\u001b[39m\u001b[38;5;241m*\u001b[39mkwargs)\n\u001b[0;32m    138\u001b[0m flat_inputs \u001b[38;5;241m=\u001b[39m function\u001b[38;5;241m.\u001b[39mfunction_type\u001b[38;5;241m.\u001b[39munpack_inputs(bound_args)\n\u001b[1;32m--> 139\u001b[0m \u001b[38;5;28;01mreturn\u001b[39;00m function\u001b[38;5;241m.\u001b[39m_call_flat(  \u001b[38;5;66;03m# pylint: disable=protected-access\u001b[39;00m\n\u001b[0;32m    140\u001b[0m     flat_inputs, captured_inputs\u001b[38;5;241m=\u001b[39mfunction\u001b[38;5;241m.\u001b[39mcaptured_inputs\n\u001b[0;32m    141\u001b[0m )\n",
      "File \u001b[1;32m~\\anaconda4\\Lib\\site-packages\\tensorflow\\python\\eager\\polymorphic_function\\concrete_function.py:1323\u001b[0m, in \u001b[0;36mConcreteFunction._call_flat\u001b[1;34m(self, tensor_inputs, captured_inputs)\u001b[0m\n\u001b[0;32m   1319\u001b[0m possible_gradient_type \u001b[38;5;241m=\u001b[39m gradients_util\u001b[38;5;241m.\u001b[39mPossibleTapeGradientTypes(args)\n\u001b[0;32m   1320\u001b[0m \u001b[38;5;28;01mif\u001b[39;00m (possible_gradient_type \u001b[38;5;241m==\u001b[39m gradients_util\u001b[38;5;241m.\u001b[39mPOSSIBLE_GRADIENT_TYPES_NONE\n\u001b[0;32m   1321\u001b[0m     \u001b[38;5;129;01mand\u001b[39;00m executing_eagerly):\n\u001b[0;32m   1322\u001b[0m   \u001b[38;5;66;03m# No tape is watching; skip to running the function.\u001b[39;00m\n\u001b[1;32m-> 1323\u001b[0m   \u001b[38;5;28;01mreturn\u001b[39;00m \u001b[38;5;28mself\u001b[39m\u001b[38;5;241m.\u001b[39m_inference_function\u001b[38;5;241m.\u001b[39mcall_preflattened(args)\n\u001b[0;32m   1324\u001b[0m forward_backward \u001b[38;5;241m=\u001b[39m \u001b[38;5;28mself\u001b[39m\u001b[38;5;241m.\u001b[39m_select_forward_and_backward_functions(\n\u001b[0;32m   1325\u001b[0m     args,\n\u001b[0;32m   1326\u001b[0m     possible_gradient_type,\n\u001b[0;32m   1327\u001b[0m     executing_eagerly)\n\u001b[0;32m   1328\u001b[0m forward_function, args_with_tangents \u001b[38;5;241m=\u001b[39m forward_backward\u001b[38;5;241m.\u001b[39mforward()\n",
      "File \u001b[1;32m~\\anaconda4\\Lib\\site-packages\\tensorflow\\python\\eager\\polymorphic_function\\atomic_function.py:216\u001b[0m, in \u001b[0;36mAtomicFunction.call_preflattened\u001b[1;34m(self, args)\u001b[0m\n\u001b[0;32m    214\u001b[0m \u001b[38;5;28;01mdef\u001b[39;00m \u001b[38;5;21mcall_preflattened\u001b[39m(\u001b[38;5;28mself\u001b[39m, args: Sequence[core\u001b[38;5;241m.\u001b[39mTensor]) \u001b[38;5;241m-\u001b[39m\u001b[38;5;241m>\u001b[39m Any:\n\u001b[0;32m    215\u001b[0m \u001b[38;5;250m  \u001b[39m\u001b[38;5;124;03m\"\"\"Calls with flattened tensor inputs and returns the structured output.\"\"\"\u001b[39;00m\n\u001b[1;32m--> 216\u001b[0m   flat_outputs \u001b[38;5;241m=\u001b[39m \u001b[38;5;28mself\u001b[39m\u001b[38;5;241m.\u001b[39mcall_flat(\u001b[38;5;241m*\u001b[39margs)\n\u001b[0;32m    217\u001b[0m   \u001b[38;5;28;01mreturn\u001b[39;00m \u001b[38;5;28mself\u001b[39m\u001b[38;5;241m.\u001b[39mfunction_type\u001b[38;5;241m.\u001b[39mpack_output(flat_outputs)\n",
      "File \u001b[1;32m~\\anaconda4\\Lib\\site-packages\\tensorflow\\python\\eager\\polymorphic_function\\atomic_function.py:251\u001b[0m, in \u001b[0;36mAtomicFunction.call_flat\u001b[1;34m(self, *args)\u001b[0m\n\u001b[0;32m    249\u001b[0m \u001b[38;5;28;01mwith\u001b[39;00m record\u001b[38;5;241m.\u001b[39mstop_recording():\n\u001b[0;32m    250\u001b[0m   \u001b[38;5;28;01mif\u001b[39;00m \u001b[38;5;28mself\u001b[39m\u001b[38;5;241m.\u001b[39m_bound_context\u001b[38;5;241m.\u001b[39mexecuting_eagerly():\n\u001b[1;32m--> 251\u001b[0m     outputs \u001b[38;5;241m=\u001b[39m \u001b[38;5;28mself\u001b[39m\u001b[38;5;241m.\u001b[39m_bound_context\u001b[38;5;241m.\u001b[39mcall_function(\n\u001b[0;32m    252\u001b[0m         \u001b[38;5;28mself\u001b[39m\u001b[38;5;241m.\u001b[39mname,\n\u001b[0;32m    253\u001b[0m         \u001b[38;5;28mlist\u001b[39m(args),\n\u001b[0;32m    254\u001b[0m         \u001b[38;5;28mlen\u001b[39m(\u001b[38;5;28mself\u001b[39m\u001b[38;5;241m.\u001b[39mfunction_type\u001b[38;5;241m.\u001b[39mflat_outputs),\n\u001b[0;32m    255\u001b[0m     )\n\u001b[0;32m    256\u001b[0m   \u001b[38;5;28;01melse\u001b[39;00m:\n\u001b[0;32m    257\u001b[0m     outputs \u001b[38;5;241m=\u001b[39m make_call_op_in_graph(\n\u001b[0;32m    258\u001b[0m         \u001b[38;5;28mself\u001b[39m,\n\u001b[0;32m    259\u001b[0m         \u001b[38;5;28mlist\u001b[39m(args),\n\u001b[0;32m    260\u001b[0m         \u001b[38;5;28mself\u001b[39m\u001b[38;5;241m.\u001b[39m_bound_context\u001b[38;5;241m.\u001b[39mfunction_call_options\u001b[38;5;241m.\u001b[39mas_attrs(),\n\u001b[0;32m    261\u001b[0m     )\n",
      "File \u001b[1;32m~\\anaconda4\\Lib\\site-packages\\tensorflow\\python\\eager\\context.py:1486\u001b[0m, in \u001b[0;36mContext.call_function\u001b[1;34m(self, name, tensor_inputs, num_outputs)\u001b[0m\n\u001b[0;32m   1484\u001b[0m cancellation_context \u001b[38;5;241m=\u001b[39m cancellation\u001b[38;5;241m.\u001b[39mcontext()\n\u001b[0;32m   1485\u001b[0m \u001b[38;5;28;01mif\u001b[39;00m cancellation_context \u001b[38;5;129;01mis\u001b[39;00m \u001b[38;5;28;01mNone\u001b[39;00m:\n\u001b[1;32m-> 1486\u001b[0m   outputs \u001b[38;5;241m=\u001b[39m execute\u001b[38;5;241m.\u001b[39mexecute(\n\u001b[0;32m   1487\u001b[0m       name\u001b[38;5;241m.\u001b[39mdecode(\u001b[38;5;124m\"\u001b[39m\u001b[38;5;124mutf-8\u001b[39m\u001b[38;5;124m\"\u001b[39m),\n\u001b[0;32m   1488\u001b[0m       num_outputs\u001b[38;5;241m=\u001b[39mnum_outputs,\n\u001b[0;32m   1489\u001b[0m       inputs\u001b[38;5;241m=\u001b[39mtensor_inputs,\n\u001b[0;32m   1490\u001b[0m       attrs\u001b[38;5;241m=\u001b[39mattrs,\n\u001b[0;32m   1491\u001b[0m       ctx\u001b[38;5;241m=\u001b[39m\u001b[38;5;28mself\u001b[39m,\n\u001b[0;32m   1492\u001b[0m   )\n\u001b[0;32m   1493\u001b[0m \u001b[38;5;28;01melse\u001b[39;00m:\n\u001b[0;32m   1494\u001b[0m   outputs \u001b[38;5;241m=\u001b[39m execute\u001b[38;5;241m.\u001b[39mexecute_with_cancellation(\n\u001b[0;32m   1495\u001b[0m       name\u001b[38;5;241m.\u001b[39mdecode(\u001b[38;5;124m\"\u001b[39m\u001b[38;5;124mutf-8\u001b[39m\u001b[38;5;124m\"\u001b[39m),\n\u001b[0;32m   1496\u001b[0m       num_outputs\u001b[38;5;241m=\u001b[39mnum_outputs,\n\u001b[1;32m   (...)\u001b[0m\n\u001b[0;32m   1500\u001b[0m       cancellation_manager\u001b[38;5;241m=\u001b[39mcancellation_context,\n\u001b[0;32m   1501\u001b[0m   )\n",
      "File \u001b[1;32m~\\anaconda4\\Lib\\site-packages\\tensorflow\\python\\eager\\execute.py:53\u001b[0m, in \u001b[0;36mquick_execute\u001b[1;34m(op_name, num_outputs, inputs, attrs, ctx, name)\u001b[0m\n\u001b[0;32m     51\u001b[0m \u001b[38;5;28;01mtry\u001b[39;00m:\n\u001b[0;32m     52\u001b[0m   ctx\u001b[38;5;241m.\u001b[39mensure_initialized()\n\u001b[1;32m---> 53\u001b[0m   tensors \u001b[38;5;241m=\u001b[39m pywrap_tfe\u001b[38;5;241m.\u001b[39mTFE_Py_Execute(ctx\u001b[38;5;241m.\u001b[39m_handle, device_name, op_name,\n\u001b[0;32m     54\u001b[0m                                       inputs, attrs, num_outputs)\n\u001b[0;32m     55\u001b[0m \u001b[38;5;28;01mexcept\u001b[39;00m core\u001b[38;5;241m.\u001b[39m_NotOkStatusException \u001b[38;5;28;01mas\u001b[39;00m e:\n\u001b[0;32m     56\u001b[0m   \u001b[38;5;28;01mif\u001b[39;00m name \u001b[38;5;129;01mis\u001b[39;00m \u001b[38;5;129;01mnot\u001b[39;00m \u001b[38;5;28;01mNone\u001b[39;00m:\n",
      "\u001b[1;31mKeyboardInterrupt\u001b[0m: "
     ]
    }
   ],
   "source": [
    "loss_tr,acc_tr = model.evaluate(train_data)\n",
    "print(acc_tr)\n",
    "print(loss_tr)"
   ]
  },
  {
   "cell_type": "code",
   "execution_count": null,
   "id": "ab8466cc",
   "metadata": {
    "execution": {
     "iopub.execute_input": "2024-03-06T05:35:35.791533Z",
     "iopub.status.busy": "2024-03-06T05:35:35.791166Z",
     "iopub.status.idle": "2024-03-06T05:36:10.032622Z",
     "shell.execute_reply": "2024-03-06T05:36:10.031688Z"
    },
    "papermill": {
     "duration": 35.594731,
     "end_time": "2024-03-06T05:36:10.682638",
     "exception": false,
     "start_time": "2024-03-06T05:35:35.087907",
     "status": "completed"
    },
    "tags": []
   },
   "outputs": [],
   "source": [
    "loss_vr,acc_vr = model.evaluate(validation_data)\n",
    "print(acc_vr)\n",
    "print(loss_vr)"
   ]
  },
  {
   "cell_type": "code",
   "execution_count": null,
   "id": "201aff22",
   "metadata": {
    "execution": {
     "iopub.execute_input": "2024-03-06T05:36:11.987379Z",
     "iopub.status.busy": "2024-03-06T05:36:11.986647Z",
     "iopub.status.idle": "2024-03-06T05:37:39.357587Z",
     "shell.execute_reply": "2024-03-06T05:37:39.356645Z"
    },
    "papermill": {
     "duration": 88.720816,
     "end_time": "2024-03-06T05:37:40.056704",
     "exception": false,
     "start_time": "2024-03-06T05:36:11.335888",
     "status": "completed"
    },
    "tags": []
   },
   "outputs": [],
   "source": [
    "loss_test,acc_test = model.evaluate_generator(test_data)\n",
    "print(acc_tr)\n",
    "print(loss_tr)"
   ]
  },
  {
   "cell_type": "code",
   "execution_count": null,
   "id": "b74a22eb",
   "metadata": {
    "execution": {
     "iopub.execute_input": "2024-03-06T05:37:41.411653Z",
     "iopub.status.busy": "2024-03-06T05:37:41.410914Z",
     "iopub.status.idle": "2024-03-06T05:37:56.016789Z",
     "shell.execute_reply": "2024-03-06T05:37:56.015430Z"
    },
    "papermill": {
     "duration": 15.314183,
     "end_time": "2024-03-06T05:37:56.019064",
     "exception": false,
     "start_time": "2024-03-06T05:37:40.704881",
     "status": "completed"
    },
    "tags": []
   },
   "outputs": [],
   "source": [
    "pip install pygame"
   ]
  },
  {
   "cell_type": "code",
   "execution_count": null,
   "id": "d80c7460",
   "metadata": {
    "execution": {
     "iopub.execute_input": "2024-03-06T05:37:57.321738Z",
     "iopub.status.busy": "2024-03-06T05:37:57.321190Z",
     "iopub.status.idle": "2024-03-06T05:37:57.931449Z",
     "shell.execute_reply": "2024-03-06T05:37:57.930541Z"
    },
    "papermill": {
     "duration": 1.263738,
     "end_time": "2024-03-06T05:37:57.933830",
     "exception": false,
     "start_time": "2024-03-06T05:37:56.670092",
     "status": "completed"
    },
    "tags": []
   },
   "outputs": [],
   "source": [
    "import cv2\n",
    "import tensorflow as tf\n",
    "from tensorflow.keras.models import load_model\n",
    "import numpy as np\n",
    "from pygame import mixer"
   ]
  },
  {
   "cell_type": "code",
   "execution_count": null,
   "id": "08fb4419",
   "metadata": {
    "execution": {
     "iopub.execute_input": "2024-03-06T05:37:59.297233Z",
     "iopub.status.busy": "2024-03-06T05:37:59.296861Z",
     "iopub.status.idle": "2024-03-06T05:38:02.288231Z",
     "shell.execute_reply": "2024-03-06T05:38:02.287438Z"
    },
    "papermill": {
     "duration": 3.704251,
     "end_time": "2024-03-06T05:38:02.290625",
     "exception": false,
     "start_time": "2024-03-06T05:37:58.586374",
     "status": "completed"
    },
    "tags": []
   },
   "outputs": [],
   "source": [
    "face_cascade = cv2.CascadeClassifier(cv2.data.haarcascades + 'haarcascade_frontalface_default.xml')\n",
    "eye_cascade = cv2.CascadeClassifier(cv2.data.haarcascades + 'haarcascade_eye.xml')\n",
    "model = load_model('Z:\\major project\\Driver-Drowsiness-Detection-using-Deep-Learning-main\\models')"
   ]
  },
  {
   "cell_type": "code",
   "execution_count": null,
   "id": "1720b8ac",
   "metadata": {
    "papermill": {
     "duration": 0.669645,
     "end_time": "2024-03-06T05:38:03.611183",
     "exception": false,
     "start_time": "2024-03-06T05:38:02.941538",
     "status": "completed"
    },
    "tags": []
   },
   "outputs": [],
   "source": [
    "mixer.init()\n",
    "sound= mixer.Sound(r\"Z:\\major project\\Driver-Drowsiness-Detection-using-Deep-Learning-main\\alarm.wav\")\n",
    "cap = cv2.VideoCapture(0)\n",
    "Score = 0\n",
    "while True:\n",
    "    ret, frame = cap.read()\n",
    "    height,width = frame.shape[0:2]\n",
    "    gray = cv2.cvtColor(frame, cv2.COLOR_BGR2GRAY)\n",
    "    faces= face_cascade.detectMultiScale(gray, scaleFactor= 1.2, minNeighbors=3)\n",
    "    eyes= eye_cascade.detectMultiScale(gray, scaleFactor= 1.1, minNeighbors=1)\n",
    "    \n",
    "    cv2.rectangle(frame, (0,height-50),(200,height),(0,0,0),thickness=cv2.FILLED)\n",
    "    \n",
    "    for (x,y,w,h) in faces:\n",
    "        cv2.rectangle(frame,pt1=(x,y),pt2=(x+w,y+h), color= (255,0,0), thickness=3 )\n",
    "        \n",
    "    for (ex,ey,ew,eh) in eyes:\n",
    "        #cv2.rectangle(frame,pt1=(ex,ey),pt2=(ex+ew,ey+eh), color= (255,0,0), thickness=3 )\n",
    "        \n",
    "        # preprocessing steps\n",
    "        eye= frame[ey:ey+eh,ex:ex+ew]\n",
    "        eye= cv2.resize(eye,(80,80))\n",
    "        eye= eye/255\n",
    "        eye= eye.reshape(80,80,3)\n",
    "        eye= np.expand_dims(eye,axis=0)\n",
    "        # preprocessing is done now model prediction\n",
    "        prediction = model.predict(eye)\n",
    "        \n",
    "        # if eyes are closed\n",
    "        if prediction[0][0]>0.30:\n",
    "            cv2.putText(frame,'closed',(10,height-20),fontFace=cv2.FONT_HERSHEY_COMPLEX_SMALL,fontScale=1,color=(255,255,255),\n",
    "                       thickness=1,lineType=cv2.LINE_AA)\n",
    "            cv2.putText(frame,'Score'+str(Score),(100,height-20),fontFace=cv2.FONT_HERSHEY_COMPLEX_SMALL,fontScale=1,color=(255,255,255),\n",
    "                       thickness=1,lineType=cv2.LINE_AA)\n",
    "            Score=Score+1\n",
    "            if(Score>15):\n",
    "                try:\n",
    "                    sound.play()\n",
    "                except:\n",
    "                    pass\n",
    "            \n",
    "        # if eyes are open\n",
    "        elif prediction[0][1]>0.90:\n",
    "            cv2.putText(frame,'open',(10,height-20),fontFace=cv2.FONT_HERSHEY_COMPLEX_SMALL,fontScale=1,color=(255,255,255),\n",
    "                       thickness=1,lineType=cv2.LINE_AA)      \n",
    "            cv2.putText(frame,'Score'+str(Score),(100,height-20),fontFace=cv2.FONT_HERSHEY_COMPLEX_SMALL,fontScale=1,color=(255,255,255),\n",
    "                       thickness=1,lineType=cv2.LINE_AA)\n",
    "            Score = Score-1\n",
    "            if (Score<0):\n",
    "                Score=0\n",
    "            \n",
    "        \n",
    "    cv2.imshow('frame',frame)\n",
    "    if cv2.waitKey(33) & 0xFF==ord('q'):\n",
    "        break\n",
    "        \n",
    "cap.release()\n",
    "cv2.destroyAllWindows()\n"
   ]
  },
  {
   "cell_type": "code",
   "execution_count": null,
   "id": "41f8d9e3",
   "metadata": {},
   "outputs": [],
   "source": []
  },
  {
   "cell_type": "code",
   "execution_count": null,
   "id": "dad022cd",
   "metadata": {},
   "outputs": [],
   "source": []
  }
 ],
 "metadata": {
  "kaggle": {
   "accelerator": "gpu",
   "dataSources": [
    {
     "datasetId": 1157257,
     "sourceId": 1941284,
     "sourceType": "datasetVersion"
    },
    {
     "datasetId": 4450906,
     "sourceId": 7637522,
     "sourceType": "datasetVersion"
    },
    {
     "datasetId": 4451010,
     "sourceId": 7637677,
     "sourceType": "datasetVersion"
    }
   ],
   "dockerImageVersionId": 30648,
   "isGpuEnabled": true,
   "isInternetEnabled": true,
   "language": "python",
   "sourceType": "notebook"
  },
  "kernelspec": {
   "display_name": "Python 3 (ipykernel)",
   "language": "python",
   "name": "python3"
  },
  "language_info": {
   "codemirror_mode": {
    "name": "ipython",
    "version": 3
   },
   "file_extension": ".py",
   "mimetype": "text/x-python",
   "name": "python",
   "nbconvert_exporter": "python",
   "pygments_lexer": "ipython3",
   "version": "3.11.5"
  },
  "papermill": {
   "default_parameters": {},
   "duration": 1123.845244,
   "end_time": "2024-03-06T05:38:07.398130",
   "environment_variables": {},
   "exception": null,
   "input_path": "__notebook__.ipynb",
   "output_path": "__notebook__.ipynb",
   "parameters": {},
   "start_time": "2024-03-06T05:19:23.552886",
   "version": "2.5.0"
  }
 },
 "nbformat": 4,
 "nbformat_minor": 5
}
